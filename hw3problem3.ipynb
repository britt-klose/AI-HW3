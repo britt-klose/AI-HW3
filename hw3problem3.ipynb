{
  "nbformat": 4,
  "nbformat_minor": 0,
  "metadata": {
    "colab": {
      "provenance": [],
      "authorship_tag": "ABX9TyNBiaYfleiMaQhf0m8NUOgg",
      "include_colab_link": true
    },
    "kernelspec": {
      "name": "python3",
      "display_name": "Python 3"
    },
    "language_info": {
      "name": "python"
    }
  },
  "cells": [
    {
      "cell_type": "markdown",
      "metadata": {
        "id": "view-in-github",
        "colab_type": "text"
      },
      "source": [
        "<a href=\"https://colab.research.google.com/github/britt-klose/AI-HW3/blob/main/hw3problem3.ipynb\" target=\"_parent\"><img src=\"https://colab.research.google.com/assets/colab-badge.svg\" alt=\"Open In Colab\"/></a>"
      ]
    },
    {
      "cell_type": "markdown",
      "source": [
        "Brittany Klose HW #3, Problem #3\n",
        "> This maze problem features a DFS (Depth First Algorithm)which when given a start node and a goal node, it will return SUCCESS if the goal is reachable and FAILURE otherwise. Two graphs are included one is successful and the other fails.\n"
      ],
      "metadata": {
        "id": "BnEU9gD6TsaO"
      }
    },
    {
      "cell_type": "code",
      "source": [
        "def DFS(graph, start, end, path=None):\n",
        "  # Initialize the path if not provided\n",
        "    if path is None:\n",
        "        path = []\n",
        "\n",
        "  # Add the current vertex to the path\n",
        "    path = path + [start]\n",
        "\n",
        "  # Check if the current vertex is the destination\n",
        "    if start == end:\n",
        "        return path\n",
        "\n",
        "  # Check if the current vertex is not in the graph\n",
        "    if start not in graph:\n",
        "        return None\n",
        "\n",
        "  # Explore neighbors \n",
        "    for neighbor in graph[start]:\n",
        "  # Check if the neighbor is not already in the path\n",
        "        if neighbor not in path:\n",
        "  # Recursively call DFS for the neighbor\n",
        "            new_path = DFS(graph, neighbor, end, path)\n",
        "  # If a path is found, return it ie SUCCESS else return none ie FAILURE\n",
        "            if new_path is not None:\n",
        "                return new_path\n",
        "\n",
        "    return None"
      ],
      "metadata": {
        "id": "ElsDvKHTL6Ka"
      },
      "execution_count": 68,
      "outputs": []
    },
    {
      "cell_type": "code",
      "execution_count": 70,
      "metadata": {
        "colab": {
          "base_uri": "https://localhost:8080/"
        },
        "id": "7p5zwqRgTqXs",
        "outputId": "a8af58a6-75e2-4da7-ef77-98edf7b5fb4d"
      },
      "outputs": [
        {
          "output_type": "stream",
          "name": "stdout",
          "text": [
            "Failure\n"
          ]
        }
      ],
      "source": [
        "# Graph 1\n",
        "\n",
        "graph1 = {\n",
        "  '0' : ['1','6'],\n",
        "  '1' : ['8', '0'],\n",
        "  '2' : ['3', '9'],\n",
        "  '3' : ['2', '11'],\n",
        "  '4' : ['12', '5'],\n",
        "  '5' : ['4', '15'],\n",
        "  '6' : ['0', '16'],\n",
        "  '7' : ['8'],\n",
        "  '8' : ['1', '7'],\n",
        "  '9' : ['2', '10'],\n",
        "  '10' : ['9', '19'],\n",
        "  '11' : ['3', '12'],\n",
        "  '12' : ['4', '21', '11'],\n",
        "  '13' : ['22'],\n",
        "  '14' : ['15', '23'],\n",
        "  '15' : ['5', '14'],\n",
        "  '16' : ['6', '26'],\n",
        "  '17' : ['27', '18'],\n",
        "  '18' : ['17'],\n",
        "  '19' : ['10', '20', '29'],\n",
        "  '20' : ['19', '30'],\n",
        "  '21' : ['12', '22'],\n",
        "  '22' : ['21', '13'],\n",
        "  '23' : ['14', '33'],\n",
        "  '24' : ['33'],\n",
        "  '25' : ['26', '34'],\n",
        "  '26' : ['16', '25', '27'],\n",
        "  '27' : ['17', '26'],\n",
        "  '28' : ['29', '35'],\n",
        "  '29' : ['19','36'],\n",
        "  '30' : ['20', '31'],\n",
        "  '31' : ['30'],\n",
        "  '32' : ['23', '39'],\n",
        "  '33' : ['23', '24'],\n",
        "  '34' : ['25', '35'],\n",
        "  '35' : ['28', '34'],\n",
        "  '36' : ['29', '37'],\n",
        "  '37' : ['36'],\n",
        "  '38' : ['39'],\n",
        "  '39' : ['32', '38', '40'],\n",
        "  '40' : ['39'],\n",
        "}\n",
        "path = DFS(graph1, '0', '40')\n",
        "\n",
        "if path:\n",
        "    print(\"SUCCESS\")\n",
        "else:\n",
        "    print(\"Failure\")\n",
        "# should output SUCCESS\n"
      ]
    },
    {
      "cell_type": "code",
      "source": [
        "# Graph 2\n",
        "\n",
        "graph2 = {\n",
        "  '0' : ['1','6'],\n",
        "  '1' : ['8', '0'],\n",
        "  '2' : ['3', '9'],\n",
        "  '3' : ['2', '11'],\n",
        "  '4' : ['12', '5'],\n",
        "  '5' : ['4', '15'],\n",
        "  '6' : ['0', '16'],\n",
        "  '7' : ['8'],\n",
        "  '8' : ['1', '7'],\n",
        "  '9' : ['2', '10'],\n",
        "  '10' : ['9', '19'],\n",
        "  '11' : ['3', '12'],\n",
        "  '12' : ['4', '21', '11'],\n",
        "  '13' : ['22'],\n",
        "  '14' : ['15', '23'],\n",
        "  '15' : ['5', '14'],\n",
        "  '16' : ['6'],\n",
        "  '17' : ['26', '18'],\n",
        "  '18' : ['17'],\n",
        "  '19' : ['10', '20', '28'],\n",
        "  '20' : ['19', '29'],\n",
        "  '21' : ['12', '22'],\n",
        "  '22' : ['21', '13'],\n",
        "  '23' : ['14', '31', '32'],\n",
        "  '24' : ['32'],\n",
        "  '25' : ['26', '33'],\n",
        "  '26' : ['17', '25'],\n",
        "  '27' : ['28', '34'],\n",
        "  '28' : ['27', '19', '35'],\n",
        "  '29' : ['20','30'],\n",
        "  '30' : ['29'],\n",
        "  '31' : ['23', '32'],\n",
        "  '32' : ['24', '23'],\n",
        "  '33' : ['25', '34'],\n",
        "  '34' : ['27', '33'],\n",
        "  '35' : ['28', '36'],\n",
        "  '36' : ['35'],\n",
        "  '37' : ['38'],\n",
        "  '38' : ['37', '39'],\n",
        "  '39' : ['38'],\n",
        "}\n",
        "\n",
        "path = DFS(graph2, '0', '39')\n",
        "\n",
        "if path:\n",
        "    print(\"SUCCESS\")\n",
        "else:\n",
        "    print(\"Failure\")\n",
        " # should output FAILURE\n"
      ],
      "metadata": {
        "colab": {
          "base_uri": "https://localhost:8080/"
        },
        "id": "Q1DXZa5nUTXp",
        "outputId": "80946749-762c-4c59-845a-0fdca0375450"
      },
      "execution_count": 67,
      "outputs": [
        {
          "output_type": "stream",
          "name": "stdout",
          "text": [
            "Failure\n"
          ]
        }
      ]
    }
  ]
}
