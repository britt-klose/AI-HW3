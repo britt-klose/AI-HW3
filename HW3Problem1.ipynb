{
  "nbformat": 4,
  "nbformat_minor": 0,
  "metadata": {
    "colab": {
      "provenance": [],
      "authorship_tag": "ABX9TyNz31AZPSG1KGjKqH0dt4S/",
      "include_colab_link": true
    },
    "kernelspec": {
      "name": "python3",
      "display_name": "Python 3"
    },
    "language_info": {
      "name": "python"
    }
  },
  "cells": [
    {
      "cell_type": "markdown",
      "metadata": {
        "id": "view-in-github",
        "colab_type": "text"
      },
      "source": [
        "<a href=\"https://colab.research.google.com/github/britt-klose/AI-HW3/blob/main/HW3Problem1.ipynb\" target=\"_parent\"><img src=\"https://colab.research.google.com/assets/colab-badge.svg\" alt=\"Open In Colab\"/></a>"
      ]
    },
    {
      "cell_type": "code",
      "execution_count": 49,
      "metadata": {
        "id": "p1l0A3gP8W9K"
      },
      "outputs": [],
      "source": [
        "# Brittany Klose Assignment #3, Problem #1\n",
        "# Problem Description:\n",
        "#   This problem features a graph that represents a social network of friends.\n",
        "#   Two users that are friends are represented by nodes connected by an edge.\n",
        "#   A directed edge, as shown in this problem, means one follows the other it points to.\n",
        "#   The BFS Algorithm below is used to return the k-th level friend for a given user.\n",
        "\n",
        "from collections import deque\n",
        "# Start graph from the root using a doubly-ended queue\n",
        "# Current 'user' will be the root node (level 0)\n",
        "# Friend_level is used to return the 'friends' at that level from the root\n",
        "\n",
        "def FindFriends(graph, user, friend_level):\n",
        "  visited, queue = set(), deque([(user, 0)]) # Tuple (vertex, level)\n",
        "  visited.add(user)\n",
        "\n",
        "# Continue exploring as long as the queue isn't empty\n",
        "  while queue:\n",
        "    vertex, level = queue.popleft()\n",
        "\n",
        "    # If current level is the target level print the users there\n",
        "    if level == friend_level:\n",
        "      print(vertex, end=' ')\n",
        "\n",
        "   # If not visited, mark it as visited, and enqueue it\n",
        "    for neighbor in graph[vertex]:\n",
        "      if neighbor not in visited:\n",
        "        visited.add(neighbor)\n",
        "        queue.append((neighbor, level + 1))\n"
      ]
    },
    {
      "cell_type": "code",
      "source": [
        " # Ex Level hierarchy if Bob is the starting user (ie is the root node)\n",
        "  # 0 Level [Bob]\n",
        "    # 1st level [Rob, Richard, Pam]\n",
        "      # 2nd level [Roger, Peter]\n",
        "        # 3rd level [Anna, Amy]\n",
        "\n",
        "#Represent Friend network using adjacency list\n",
        "graph1 = {\n",
        "  'Bob' : ['Rob','Richard', 'Pam'],\n",
        "  'Rob' : [],\n",
        "  'Richard' : [],\n",
        "  'Pam' : ['Roger', 'Peter'],\n",
        "  'Roger' : ['Anna'],\n",
        "  'Peter' : ['Amy'],\n",
        "  'Anna' : [],\n",
        "  'Amy' : [],\n",
        "}\n",
        "\n",
        "#Execute Algorithm FindFriends(graph, User, kth level)\n",
        "#Ex:FindFriends(graph1, 'Pam', 1) should print Roger and Peter\n",
        "FindFriends(graph1, 'Pam', 1)\n",
        "\n"
      ],
      "metadata": {
        "colab": {
          "base_uri": "https://localhost:8080/"
        },
        "id": "rqhEtBmzOmXz",
        "outputId": "34a54d8d-8d2d-4e2a-bc49-ed3efce28fd3"
      },
      "execution_count": 53,
      "outputs": [
        {
          "output_type": "stream",
          "name": "stdout",
          "text": [
            "Roger Peter "
          ]
        }
      ]
    }
  ]
}