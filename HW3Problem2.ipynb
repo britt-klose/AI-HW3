{
  "nbformat": 4,
  "nbformat_minor": 0,
  "metadata": {
    "colab": {
      "provenance": [],
      "include_colab_link": true
    },
    "kernelspec": {
      "name": "python3",
      "display_name": "Python 3"
    },
    "language_info": {
      "name": "python"
    }
  },
  "cells": [
    {
      "cell_type": "markdown",
      "metadata": {
        "id": "view-in-github",
        "colab_type": "text"
      },
      "source": [
        "<a href=\"https://colab.research.google.com/github/britt-klose/AI-HW3/blob/main/HW3Problem2.ipynb\" target=\"_parent\"><img src=\"https://colab.research.google.com/assets/colab-badge.svg\" alt=\"Open In Colab\"/></a>"
      ]
    },
    {
      "cell_type": "markdown",
      "source": [
        "Brittany Klose HW #3 Problem #2\n",
        "> This problem represents a social network of friends at times t and t' where t' > t. Time t being who the user is not currently friends with but could be. While time t' represents a time after when they are actually friends with these prospects.The featured algorithm, using BFS, discovers potentially missing immediate connections in a network at time t.\n",
        "\n"
      ],
      "metadata": {
        "id": "p-QUK2KorqNJ"
      }
    },
    {
      "cell_type": "code",
      "execution_count": 48,
      "metadata": {
        "id": "EgTsY79irm6p"
      },
      "outputs": [],
      "source": [
        "from collections import deque\n",
        "# Start graph from the root using a doubly-ended queue\n",
        "\n",
        "def PotentialFriends(graph, user):\n",
        "  # Create a set to keep track of friends at time t'\n",
        "  current_friends = set(graph[user])\n",
        "\n",
        "  #Create set to tack potential friends at time t\n",
        "  suggested_friends = set()\n",
        "\n",
        "  #Start BFS with doubly ended queue\n",
        "  queue = deque(graph[user])\n",
        "\n",
        "# Continue exploring as long as the queue isn't empty keep track of visited\n",
        "  visited = set(graph[user])\n",
        "\n",
        "  while queue:\n",
        "    current_user = queue.popleft()\n",
        "\n",
        "    #check if current node shares an edge with root at time t'\n",
        "    # ie if they are friends currently\n",
        "    if current_user not in current_friends and current_user is not user:\n",
        "      suggested_friends.add(current_user)\n",
        "\n",
        "\n",
        "   # Add nodes/friends of current user to the queue if not visited\n",
        "    for friend in graph[current_user]:\n",
        "      if friend not in visited:\n",
        "        queue.append(friend)\n",
        "        visited.add(friend)\n",
        "\n",
        "  return suggested_friends\n",
        "\n",
        "\n",
        "\n"
      ]
    },
    {
      "cell_type": "code",
      "source": [
        "#Represent Friend network using adjacency list\n",
        "graph1 = {\n",
        "  'Adam' : ['Maria'],\n",
        "  'Maria' : ['Adam', 'David', 'Sophia', 'Maya'],\n",
        "  'Sophia' : ['Maya', 'Maria'],\n",
        "  'Maya' : ['David', 'Maria', 'Sophia'],\n",
        "  'David' : ['Maria', 'Maya'],\n",
        "}\n",
        "\n",
        "#Execute Algorithm --> Ex:PotentialFriends(graph1, 'Adam') should print Sohpia, Maya, David\n",
        "PotentialFriends(graph1, 'Adam')"
      ],
      "metadata": {
        "colab": {
          "base_uri": "https://localhost:8080/"
        },
        "id": "tifFNvo5vio2",
        "outputId": "64c6e218-b7e1-4d53-ab4b-4af2d0e16ca2"
      },
      "execution_count": 49,
      "outputs": [
        {
          "output_type": "execute_result",
          "data": {
            "text/plain": [
              "{'David', 'Maya', 'Sophia'}"
            ]
          },
          "metadata": {},
          "execution_count": 49
        }
      ]
    }
  ]
}